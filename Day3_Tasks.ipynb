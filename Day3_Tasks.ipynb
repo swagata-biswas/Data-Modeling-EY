{
 "cells": [
  {
   "cell_type": "raw",
   "id": "314469f2",
   "metadata": {},
   "source": [
    " Use smart programming to print the year since your year of birth till now if the sum of digits in that year is divisible by 2"
   ]
  },
  {
   "cell_type": "code",
   "execution_count": 1,
   "id": "a90e4b3b",
   "metadata": {},
   "outputs": [
    {
     "data": {
      "text/plain": [
       "[2000, 2002, 2004, 2006, 2008, 2010, 2012, 2014, 2016, 2018, 2020, 2022]"
      ]
     },
     "execution_count": 1,
     "metadata": {},
     "output_type": "execute_result"
    }
   ],
   "source": [
    "years=[i for i in range(2000,2023)]\n",
    "list(filter(lambda x:x%2==0, years))"
   ]
  },
  {
   "cell_type": "code",
   "execution_count": null,
   "id": "69d00e06",
   "metadata": {},
   "outputs": [],
   "source": []
  }
 ],
 "metadata": {
  "kernelspec": {
   "display_name": "Python 3 (ipykernel)",
   "language": "python",
   "name": "python3"
  },
  "language_info": {
   "codemirror_mode": {
    "name": "ipython",
    "version": 3
   },
   "file_extension": ".py",
   "mimetype": "text/x-python",
   "name": "python",
   "nbconvert_exporter": "python",
   "pygments_lexer": "ipython3",
   "version": "3.11.4"
  }
 },
 "nbformat": 4,
 "nbformat_minor": 5
}
