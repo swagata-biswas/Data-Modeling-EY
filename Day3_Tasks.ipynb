{
 "cells": [
  {
   "cell_type": "markdown",
   "id": "194ce6e5",
   "metadata": {},
   "source": [
    " Use smart programming to print the year since your year of birth till now if the sum of digits in that year is divisible by 2"
   ]
  },
  {
   "cell_type": "code",
   "execution_count": 3,
   "id": "a79da5bb",
   "metadata": {},
   "outputs": [
    {
     "data": {
      "text/plain": [
       "[2000, 2002, 2004, 2006, 2008, 2011, 2013, 2015, 2017, 2019, 2020, 2022]"
      ]
     },
     "execution_count": 3,
     "metadata": {},
     "output_type": "execute_result"
    }
   ],
   "source": [
    "years=[i for i in range(2000,2023)]\n",
    "def sumof(num):\n",
    "    s=sum([int(k) for k in str(num)])\n",
    "    return s\n",
    "list(filter(lambda x:sumof(x)%2==0, years))"
   ]
  },
  {
   "cell_type": "code",
   "execution_count": null,
   "id": "7185ee2c",
   "metadata": {},
   "outputs": [],
   "source": []
  }
 ],
 "metadata": {
  "kernelspec": {
   "display_name": "Python 3 (ipykernel)",
   "language": "python",
   "name": "python3"
  },
  "language_info": {
   "codemirror_mode": {
    "name": "ipython",
    "version": 3
   },
   "file_extension": ".py",
   "mimetype": "text/x-python",
   "name": "python",
   "nbconvert_exporter": "python",
   "pygments_lexer": "ipython3",
   "version": "3.11.4"
  }
 },
 "nbformat": 4,
 "nbformat_minor": 5
}
