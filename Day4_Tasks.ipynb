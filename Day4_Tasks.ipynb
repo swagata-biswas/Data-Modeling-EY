{
 "cells": [
  {
   "cell_type": "code",
   "execution_count": 1,
   "id": "e08c90d0",
   "metadata": {},
   "outputs": [
    {
     "name": "stdout",
     "output_type": "stream",
     "text": [
      "        USA  Japan  China  Germany\n",
      "2013  21.43  12.40  14.34     3.73\n",
      "2014  21.53  14.50  16.15     3.87\n",
      "2015  21.73  16.30  18.23     4.02\n",
      "2016  21.95  15.40  20.93     4.22\n",
      "2017  22.14  20.33  22.67     4.42\n",
      "2018  22.33  14.20  24.16     4.64\n",
      "2019  22.68  17.50  26.34     4.87\n",
      "2020  22.87  18.12  27.87     5.00\n",
      "2021  23.09  20.30  29.47     5.21\n",
      "2022  23.43  18.45  31.86     5.43\n",
      "\n",
      "Average GDP: 16.702749999999998\n"
     ]
    }
   ],
   "source": [
    "import pandas as pd\n",
    "\n",
    "myDict = {\n",
    "    'USA': [21.43, 21.53, 21.73, 21.95, 22.14, 22.33, 22.68, 22.87, 23.09, 23.43],\n",
    "    'Japan': [12.4, 14.5, 16.3, 15.4, 20.33, 14.2, 17.5, 18.12, 20.3, 18.45],\n",
    "    'China': [14.34, 16.15, 18.23, 20.93, 22.67, 24.16, 26.34, 27.87, 29.47, 31.86],\n",
    "    'Germany': [3.73, 3.87, 4.02, 4.22, 4.42, 4.64, 4.87, 5.00, 5.21, 5.43]\n",
    "}\n",
    "\n",
    "df = pd.DataFrame(myDict, index=range(pd.Timestamp.now().year - 10, pd.Timestamp.now().year))\n",
    "print(df)\n",
    "\n",
    "average_gdp = df.mean().mean()\n",
    "print(f\"\\nAverage GDP: {average_gdp}\")\n"
   ]
  },
  {
   "cell_type": "code",
   "execution_count": null,
   "id": "cdce06bd",
   "metadata": {},
   "outputs": [],
   "source": []
  }
 ],
 "metadata": {
  "kernelspec": {
   "display_name": "Python 3 (ipykernel)",
   "language": "python",
   "name": "python3"
  },
  "language_info": {
   "codemirror_mode": {
    "name": "ipython",
    "version": 3
   },
   "file_extension": ".py",
   "mimetype": "text/x-python",
   "name": "python",
   "nbconvert_exporter": "python",
   "pygments_lexer": "ipython3",
   "version": "3.11.4"
  }
 },
 "nbformat": 4,
 "nbformat_minor": 5
}
