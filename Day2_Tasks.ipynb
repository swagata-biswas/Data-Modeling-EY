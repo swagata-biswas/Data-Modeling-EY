{
 "cells": [
  {
   "cell_type": "markdown",
   "id": "b73360b4",
   "metadata": {},
   "source": [
    "Task 1"
   ]
  },
  {
   "cell_type": "code",
   "execution_count": 2,
   "id": "8a76c711",
   "metadata": {},
   "outputs": [],
   "source": [
    "list1 = ['book', 'man', 'woman']\n",
    "list2 = ['character', 'python', 'location', 'green']\n",
    "list3 = ['python', 'mumbai', 'melbourne']\n",
    "list4 = ['parliament', 'sport', 'ecommerce']"
   ]
  },
  {
   "cell_type": "markdown",
   "id": "1a03d058",
   "metadata": {},
   "source": [
    "Task 2"
   ]
  },
  {
   "cell_type": "code",
   "execution_count": null,
   "id": "85ead581",
   "metadata": {},
   "outputs": [],
   "source": [
    "1. Write a function which takes in a value 5(arbitrary) and prints you the output like this\n",
    "\n",
    "*\n",
    "**\n",
    "***\n",
    "****\n",
    "*****"
   ]
  },
  {
   "cell_type": "code",
   "execution_count": 10,
   "id": "315d125c",
   "metadata": {},
   "outputs": [
    {
     "name": "stdout",
     "output_type": "stream",
     "text": [
      "\n",
      "*\n",
      "**\n",
      "***\n",
      "****\n",
      "*****\n"
     ]
    }
   ],
   "source": [
    "def func1(n):\n",
    "    for j in range(n+1):\n",
    "        print(\"*\"*j)\n",
    "        \n",
    "func1(5)"
   ]
  },
  {
   "cell_type": "code",
   "execution_count": null,
   "id": "da568c2e",
   "metadata": {},
   "outputs": [],
   "source": [
    "2. Write a function which takes in a value 5(arbitrary) and prints you the output like this\n",
    "\n",
    "    *\n",
    "   * *\n",
    "  *   *\n",
    " *     *\n",
    "* * * * *"
   ]
  },
  {
   "cell_type": "code",
   "execution_count": 16,
   "id": "db7c152e",
   "metadata": {},
   "outputs": [
    {
     "name": "stdout",
     "output_type": "stream",
     "text": [
      "    *\n",
      "   * *\n",
      "  *   *\n",
      " *     *\n",
      "*********\n"
     ]
    }
   ],
   "source": [
    "def func2(n):\n",
    "    for i in range(1, n+1):\n",
    "        for j in range(n - i):\n",
    "            print(' ', end='')\n",
    "        for k in range(2 * i - 1):\n",
    "            if k == 0 or k == 2 * i - 2:\n",
    "                print('*', end='')\n",
    "            else:\n",
    "                if i == n:\n",
    "                    print('*', end='')\n",
    "                else:\n",
    "                    print(' ', end='')\n",
    "        print()       \n",
    "        \n",
    "func2(5)"
   ]
  },
  {
   "cell_type": "code",
   "execution_count": null,
   "id": "db444f4a",
   "metadata": {},
   "outputs": [],
   "source": [
    "3. Write a function which takes in a value 5(arbitrary) and prints you the output like this\n",
    "\n",
    "    *\n",
    "   ***\n",
    "  *****\n",
    " *******\n",
    "*********"
   ]
  },
  {
   "cell_type": "code",
   "execution_count": 18,
   "id": "d2c16276",
   "metadata": {},
   "outputs": [
    {
     "name": "stdout",
     "output_type": "stream",
     "text": [
      "    *\n",
      "   ***\n",
      "  *****\n",
      " *******\n",
      "*********\n"
     ]
    }
   ],
   "source": [
    "def func3(n):\n",
    "    for i in range(1, n+1):\n",
    "        for j in range(n - i):\n",
    "            print(' ', end='')\n",
    "        for k in range(2 * i - 1):\n",
    "            print('*', end='')\n",
    "        print()\n",
    "    \n",
    "func3(5)"
   ]
  },
  {
   "cell_type": "code",
   "execution_count": null,
   "id": "bbaad470",
   "metadata": {},
   "outputs": [],
   "source": [
    "4. Write a function which takes in a value 5(arbitrary) and prints you the output like this\n",
    "\n",
    "* * * * *\n",
    "*       *\n",
    "*       *\n",
    "*       *\n",
    "* * * * *"
   ]
  },
  {
   "cell_type": "code",
   "execution_count": 28,
   "id": "553d651e",
   "metadata": {},
   "outputs": [
    {
     "name": "stdout",
     "output_type": "stream",
     "text": [
      "* * * * * \n",
      "*       * \n",
      "*       * \n",
      "*       * \n",
      "* * * * * \n"
     ]
    }
   ],
   "source": [
    "def func4(n):\n",
    "    for i in range(n):\n",
    "        for j in range(n):\n",
    "            if i==0 or i==n-1 or j==0 or j==n-1:\n",
    "                print(\"* \",end='')\n",
    "            else:\n",
    "                print(\"  \",end='')\n",
    "        print()\n",
    "            \n",
    "func4(5)"
   ]
  },
  {
   "cell_type": "code",
   "execution_count": null,
   "id": "f49bf736",
   "metadata": {},
   "outputs": [],
   "source": []
  }
 ],
 "metadata": {
  "kernelspec": {
   "display_name": "Python 3 (ipykernel)",
   "language": "python",
   "name": "python3"
  },
  "language_info": {
   "codemirror_mode": {
    "name": "ipython",
    "version": 3
   },
   "file_extension": ".py",
   "mimetype": "text/x-python",
   "name": "python",
   "nbconvert_exporter": "python",
   "pygments_lexer": "ipython3",
   "version": "3.11.4"
  }
 },
 "nbformat": 4,
 "nbformat_minor": 5
}
